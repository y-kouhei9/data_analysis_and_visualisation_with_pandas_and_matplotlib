{
 "cells": [
  {
   "cell_type": "code",
   "execution_count": 40,
   "id": "0447c616",
   "metadata": {},
   "outputs": [],
   "source": [
    "import pandas"
   ]
  },
  {
   "cell_type": "code",
   "execution_count": 41,
   "id": "9b9b300b",
   "metadata": {},
   "outputs": [],
   "source": [
    "data = pandas.read_csv(\"reviews.csv\")"
   ]
  },
  {
   "cell_type": "code",
   "execution_count": 42,
   "id": "0232ab54",
   "metadata": {},
   "outputs": [
    {
     "data": {
      "text/html": [
       "<div>\n",
       "<style scoped>\n",
       "    .dataframe tbody tr th:only-of-type {\n",
       "        vertical-align: middle;\n",
       "    }\n",
       "\n",
       "    .dataframe tbody tr th {\n",
       "        vertical-align: top;\n",
       "    }\n",
       "\n",
       "    .dataframe thead th {\n",
       "        text-align: right;\n",
       "    }\n",
       "</style>\n",
       "<table border=\"1\" class=\"dataframe\">\n",
       "  <thead>\n",
       "    <tr style=\"text-align: right;\">\n",
       "      <th></th>\n",
       "      <th>Course Name</th>\n",
       "      <th>Timestamp</th>\n",
       "      <th>Rating</th>\n",
       "      <th>Comment</th>\n",
       "    </tr>\n",
       "  </thead>\n",
       "  <tbody>\n",
       "    <tr>\n",
       "      <th>0</th>\n",
       "      <td>The Python Mega Course: Build 10 Real World Ap...</td>\n",
       "      <td>2021-04-02 06:25:52+00:00</td>\n",
       "      <td>4.0</td>\n",
       "      <td>NaN</td>\n",
       "    </tr>\n",
       "    <tr>\n",
       "      <th>1</th>\n",
       "      <td>The Python Mega Course: Build 10 Real World Ap...</td>\n",
       "      <td>2021-04-02 05:12:34+00:00</td>\n",
       "      <td>4.0</td>\n",
       "      <td>NaN</td>\n",
       "    </tr>\n",
       "    <tr>\n",
       "      <th>2</th>\n",
       "      <td>The Python Mega Course: Build 10 Real World Ap...</td>\n",
       "      <td>2021-04-02 05:11:03+00:00</td>\n",
       "      <td>4.0</td>\n",
       "      <td>NaN</td>\n",
       "    </tr>\n",
       "    <tr>\n",
       "      <th>3</th>\n",
       "      <td>The Python Mega Course: Build 10 Real World Ap...</td>\n",
       "      <td>2021-04-02 03:33:24+00:00</td>\n",
       "      <td>5.0</td>\n",
       "      <td>NaN</td>\n",
       "    </tr>\n",
       "    <tr>\n",
       "      <th>4</th>\n",
       "      <td>The Python Mega Course: Build 10 Real World Ap...</td>\n",
       "      <td>2021-04-02 03:31:49+00:00</td>\n",
       "      <td>4.5</td>\n",
       "      <td>NaN</td>\n",
       "    </tr>\n",
       "    <tr>\n",
       "      <th>...</th>\n",
       "      <td>...</td>\n",
       "      <td>...</td>\n",
       "      <td>...</td>\n",
       "      <td>...</td>\n",
       "    </tr>\n",
       "    <tr>\n",
       "      <th>44995</th>\n",
       "      <td>Python for Beginners with Examples</td>\n",
       "      <td>2018-01-01 01:11:26+00:00</td>\n",
       "      <td>4.0</td>\n",
       "      <td>NaN</td>\n",
       "    </tr>\n",
       "    <tr>\n",
       "      <th>44996</th>\n",
       "      <td>The Python Mega Course: Build 10 Real World Ap...</td>\n",
       "      <td>2018-01-01 01:09:56+00:00</td>\n",
       "      <td>5.0</td>\n",
       "      <td>NaN</td>\n",
       "    </tr>\n",
       "    <tr>\n",
       "      <th>44997</th>\n",
       "      <td>The Python Mega Course: Build 10 Real World Ap...</td>\n",
       "      <td>2018-01-01 01:08:11+00:00</td>\n",
       "      <td>5.0</td>\n",
       "      <td>NaN</td>\n",
       "    </tr>\n",
       "    <tr>\n",
       "      <th>44998</th>\n",
       "      <td>Python for Beginners with Examples</td>\n",
       "      <td>2018-01-01 01:05:26+00:00</td>\n",
       "      <td>5.0</td>\n",
       "      <td>NaN</td>\n",
       "    </tr>\n",
       "    <tr>\n",
       "      <th>44999</th>\n",
       "      <td>The Python Mega Course: Build 10 Real World Ap...</td>\n",
       "      <td>2018-01-01 01:01:16+00:00</td>\n",
       "      <td>5.0</td>\n",
       "      <td>NaN</td>\n",
       "    </tr>\n",
       "  </tbody>\n",
       "</table>\n",
       "<p>45000 rows × 4 columns</p>\n",
       "</div>"
      ],
      "text/plain": [
       "                                             Course Name  \\\n",
       "0      The Python Mega Course: Build 10 Real World Ap...   \n",
       "1      The Python Mega Course: Build 10 Real World Ap...   \n",
       "2      The Python Mega Course: Build 10 Real World Ap...   \n",
       "3      The Python Mega Course: Build 10 Real World Ap...   \n",
       "4      The Python Mega Course: Build 10 Real World Ap...   \n",
       "...                                                  ...   \n",
       "44995                 Python for Beginners with Examples   \n",
       "44996  The Python Mega Course: Build 10 Real World Ap...   \n",
       "44997  The Python Mega Course: Build 10 Real World Ap...   \n",
       "44998                 Python for Beginners with Examples   \n",
       "44999  The Python Mega Course: Build 10 Real World Ap...   \n",
       "\n",
       "                       Timestamp  Rating Comment  \n",
       "0      2021-04-02 06:25:52+00:00     4.0     NaN  \n",
       "1      2021-04-02 05:12:34+00:00     4.0     NaN  \n",
       "2      2021-04-02 05:11:03+00:00     4.0     NaN  \n",
       "3      2021-04-02 03:33:24+00:00     5.0     NaN  \n",
       "4      2021-04-02 03:31:49+00:00     4.5     NaN  \n",
       "...                          ...     ...     ...  \n",
       "44995  2018-01-01 01:11:26+00:00     4.0     NaN  \n",
       "44996  2018-01-01 01:09:56+00:00     5.0     NaN  \n",
       "44997  2018-01-01 01:08:11+00:00     5.0     NaN  \n",
       "44998  2018-01-01 01:05:26+00:00     5.0     NaN  \n",
       "44999  2018-01-01 01:01:16+00:00     5.0     NaN  \n",
       "\n",
       "[45000 rows x 4 columns]"
      ]
     },
     "execution_count": 42,
     "metadata": {},
     "output_type": "execute_result"
    }
   ],
   "source": [
    "data"
   ]
  },
  {
   "cell_type": "code",
   "execution_count": 43,
   "id": "a3c67a81",
   "metadata": {},
   "outputs": [
    {
     "data": {
      "text/plain": [
       "0        4.0\n",
       "1        4.0\n",
       "2        4.0\n",
       "3        5.0\n",
       "4        4.5\n",
       "        ... \n",
       "44995    4.0\n",
       "44996    5.0\n",
       "44997    5.0\n",
       "44998    5.0\n",
       "44999    5.0\n",
       "Name: Rating, Length: 45000, dtype: float64"
      ]
     },
     "execution_count": 43,
     "metadata": {},
     "output_type": "execute_result"
    }
   ],
   "source": [
    "data['Rating']"
   ]
  },
  {
   "cell_type": "code",
   "execution_count": 44,
   "id": "f0ed3ecd",
   "metadata": {},
   "outputs": [
    {
     "data": {
      "text/plain": [
       "4.442155555555556"
      ]
     },
     "execution_count": 44,
     "metadata": {},
     "output_type": "execute_result"
    }
   ],
   "source": [
    "data['Rating'].mean()"
   ]
  },
  {
   "cell_type": "code",
   "execution_count": 46,
   "id": "4dfd7e98",
   "metadata": {},
   "outputs": [
    {
     "data": {
      "text/plain": [
       "4.477270180942244"
      ]
     },
     "execution_count": 46,
     "metadata": {},
     "output_type": "execute_result"
    }
   ],
   "source": [
    "data[data['Course Name'] == 'The Python Mega Course: Build 10 Real World Applications']['Rating'].mean()"
   ]
  },
  {
   "cell_type": "code",
   "execution_count": 48,
   "id": "40c46a60",
   "metadata": {},
   "outputs": [
    {
     "data": {
      "text/plain": [
       "4.433679746603492"
      ]
     },
     "execution_count": 48,
     "metadata": {},
     "output_type": "execute_result"
    }
   ],
   "source": [
    "data[data['Comment'].isnull()]['Rating'].mean()"
   ]
  },
  {
   "cell_type": "code",
   "execution_count": 49,
   "id": "11624767",
   "metadata": {},
   "outputs": [
    {
     "data": {
      "text/plain": [
       "4.489777908515959"
      ]
     },
     "execution_count": 49,
     "metadata": {},
     "output_type": "execute_result"
    }
   ],
   "source": [
    "data[data['Comment'].notnull()]['Rating'].mean()"
   ]
  },
  {
   "cell_type": "code",
   "execution_count": 50,
   "id": "8c608e70",
   "metadata": {},
   "outputs": [
    {
     "data": {
      "text/plain": [
       "6799"
      ]
     },
     "execution_count": 50,
     "metadata": {},
     "output_type": "execute_result"
    }
   ],
   "source": [
    "data[data['Comment'].notnull()]['Rating'].count()"
   ]
  },
  {
   "cell_type": "code",
   "execution_count": 52,
   "id": "fa0e4e7a",
   "metadata": {},
   "outputs": [
    {
     "data": {
      "text/plain": [
       "77"
      ]
     },
     "execution_count": 52,
     "metadata": {},
     "output_type": "execute_result"
    }
   ],
   "source": [
    "data[data['Comment'].str.contains('accent', na=False)]['Rating'].count()"
   ]
  },
  {
   "cell_type": "code",
   "execution_count": 53,
   "id": "7a2fe527",
   "metadata": {},
   "outputs": [
    {
     "data": {
      "text/plain": [
       "3.8636363636363638"
      ]
     },
     "execution_count": 53,
     "metadata": {},
     "output_type": "execute_result"
    }
   ],
   "source": [
    "data[data['Comment'].str.contains('accent', na=False)]['Rating'].mean()"
   ]
  },
  {
   "cell_type": "code",
   "execution_count": null,
   "id": "28b16bcc",
   "metadata": {},
   "outputs": [],
   "source": []
  }
 ],
 "metadata": {
  "kernelspec": {
   "display_name": "Python 3 (ipykernel)",
   "language": "python",
   "name": "python3"
  },
  "language_info": {
   "codemirror_mode": {
    "name": "ipython",
    "version": 3
   },
   "file_extension": ".py",
   "mimetype": "text/x-python",
   "name": "python",
   "nbconvert_exporter": "python",
   "pygments_lexer": "ipython3",
   "version": "3.9.7"
  }
 },
 "nbformat": 4,
 "nbformat_minor": 5
}
